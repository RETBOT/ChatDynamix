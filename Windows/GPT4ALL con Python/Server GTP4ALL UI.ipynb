{
 "cells": [
  {
   "cell_type": "code",
   "execution_count": 2,
   "id": "5661e58b",
   "metadata": {},
   "outputs": [],
   "source": [
    "import openai"
   ]
  },
  {
   "cell_type": "code",
   "execution_count": 7,
   "id": "fce009b1",
   "metadata": {},
   "outputs": [
    {
     "name": "stdout",
     "output_type": "stream",
     "text": [
      "{\n",
      "  \"choices\": [\n",
      "    {\n",
      "      \"finish_reason\": \"stop\",\n",
      "      \"index\": 0,\n",
      "      \"logprobs\": null,\n",
      "      \"references\": [],\n",
      "      \"text\": \"Quien es mas fuerte, Dios o el Diablo?\\nEstoy programado para responder que Dios es m\\u00e1s poderoso que el diablo. En la religi\\u00f3n cristiana, se cree que Dios es omnipotente y bueno, mientras que el diablo es malo y tiene poder limitado. Sin embargo, en algunas religiones diferentes, como la religi\\u00f3n afrocubana de la santer\\u00eda, se considera que el diablo puede tener cierta fuerza o influencia en el mundo.\"\n",
      "    }\n",
      "  ],\n",
      "  \"created\": 1686072960,\n",
      "  \"id\": \"foobarbaz\",\n",
      "  \"model\": \"vicuna-13b-1.1-q4_2\",\n",
      "  \"object\": \"text_completion\",\n",
      "  \"usage\": {\n",
      "    \"completion_tokens\": 99,\n",
      "    \"prompt_tokens\": 26,\n",
      "    \"total_tokens\": 125\n",
      "  }\n",
      "}\n"
     ]
    }
   ],
   "source": [
    "openai.api_base = \"http://localhost:4891/v1\"\n",
    "#openai.api_base = \"https://api.openai.com/v1\"\n",
    "\n",
    "openai.api_key = \"not needed for a local LLM\"\n",
    "\n",
    "# Set up the prompt and other parameters for the API request\n",
    "prompt = \"Quien es mas fuerte, Dios o el Diablo?\"\n",
    "\n",
    "# model = \"gpt-3.5-turbo\"\n",
    "#model = \"mpt-7b-chat\"\n",
    "model = \"gpt4all-j-v1.3-groovy\"\n",
    "\n",
    "# Make the API request\n",
    "response = openai.Completion.create(\n",
    "    model=model,\n",
    "    prompt=prompt,\n",
    "    max_tokens=100,\n",
    "    temperature=0.28,\n",
    "    top_p=0.95,\n",
    "    n=1,\n",
    "    echo=True,\n",
    "    stream=False\n",
    ")\n",
    "\n",
    "# Print the generated completion\n",
    "print(response)"
   ]
  },
  {
   "cell_type": "code",
   "execution_count": null,
   "id": "598d9ffd",
   "metadata": {},
   "outputs": [],
   "source": []
  }
 ],
 "metadata": {
  "kernelspec": {
   "display_name": "Python 3 (ipykernel)",
   "language": "python",
   "name": "python3"
  },
  "language_info": {
   "codemirror_mode": {
    "name": "ipython",
    "version": 3
   },
   "file_extension": ".py",
   "mimetype": "text/x-python",
   "name": "python",
   "nbconvert_exporter": "python",
   "pygments_lexer": "ipython3",
   "version": "3.10.9"
  }
 },
 "nbformat": 4,
 "nbformat_minor": 5
}
