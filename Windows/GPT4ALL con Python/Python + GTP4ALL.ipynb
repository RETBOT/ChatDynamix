{
 "cells": [
  {
   "cell_type": "code",
   "execution_count": 1,
   "id": "13b0328d",
   "metadata": {},
   "outputs": [],
   "source": [
    "import gpt4all"
   ]
  },
  {
   "cell_type": "code",
   "execution_count": 2,
   "id": "c57334ac",
   "metadata": {},
   "outputs": [
    {
     "name": "stdout",
     "output_type": "stream",
     "text": [
      "Found model file.\n",
      "### Instruction: \n",
      "            The prompt below is a question to answer, a task to complete, or a conversation \n",
      "            to respond to; decide which and write an appropriate response.\n",
      "            \n",
      "### Prompt: \n",
      "¿Do you like cookies?\n",
      "### Response:\n",
      " Yes, I love cookies! They are one of my favorite treats. I especially enjoy chocolate chip cookies, but I also like oatmeal raisin and peanut butter cookies. What about you? Do you have a favorite type of cookie?\n"
     ]
    },
    {
     "data": {
      "text/plain": [
       "{'model': 'ggml-gpt4all-l13b-snoozy',\n",
       " 'usage': {'prompt_tokens': 247,\n",
       "  'completion_tokens': 213,\n",
       "  'total_tokens': 460},\n",
       " 'choices': [{'message': {'role': 'assistant',\n",
       "    'content': ' Yes, I love cookies! They are one of my favorite treats. I especially enjoy chocolate chip cookies, but I also like oatmeal raisin and peanut butter cookies. What about you? Do you have a favorite type of cookie?'}}]}"
      ]
     },
     "execution_count": 2,
     "metadata": {},
     "output_type": "execute_result"
    }
   ],
   "source": [
    "gptj = gpt4all.GPT4All(\"ggml-gpt4all-l13b-snoozy\") #Modelo implementado, https://docs.gpt4all.io/gpt4all_python.html\n",
    "#La ubicacion de descarga del modelo esta en ~/.cache/gpt4all/\n",
    "\n",
    "messages = [{\"role\": \"user\", \"content\": \"¿Do you like cookies?\"}]\n",
    "#La parte de Content es la peticion que se realiza, en este caso \"Te gustan las galletas?\"\n",
    "\n",
    "gptj.chat_completion(messages)\n",
    "#Con esta ultima parte se muestra el mensaje que nos da GTP4ALL"
   ]
  },
  {
   "cell_type": "code",
   "execution_count": null,
   "id": "9bafe636",
   "metadata": {},
   "outputs": [],
   "source": []
  }
 ],
 "metadata": {
  "kernelspec": {
   "display_name": "Python 3 (ipykernel)",
   "language": "python",
   "name": "python3"
  },
  "language_info": {
   "codemirror_mode": {
    "name": "ipython",
    "version": 3
   },
   "file_extension": ".py",
   "mimetype": "text/x-python",
   "name": "python",
   "nbconvert_exporter": "python",
   "pygments_lexer": "ipython3",
   "version": "3.10.9"
  }
 },
 "nbformat": 4,
 "nbformat_minor": 5
}
